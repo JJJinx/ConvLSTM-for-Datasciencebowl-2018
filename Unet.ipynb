{
 "cells": [
  {
   "cell_type": "code",
   "execution_count": 1,
   "metadata": {},
   "outputs": [
    {
     "name": "stderr",
     "output_type": "stream",
     "text": [
      "Using TensorFlow backend.\n"
     ]
    }
   ],
   "source": [
    "import os\n",
    "import sys\n",
    "import random\n",
    "import warnings\n",
    "\n",
    "import numpy as np # linear algebra\n",
    "import pandas as pd # data processing, CSV file I/O (e.g. pd.read_csv)\n",
    "import tensorflow as tf\n",
    "import matplotlib.pyplot as plt\n",
    "from keras import backend as K\n",
    "\n",
    "import skimage.io\n",
    "from skimage.io import imread, imshow, imread_collection, concatenate_images\n",
    "from skimage.transform import resize\n",
    "from skimage.morphology import label\n",
    "from skimage import transform\n",
    "\n",
    "from tqdm import tqdm\n",
    "from itertools import chain\n",
    "\n",
    "\n",
    "import shutil\n",
    "%matplotlib inline"
   ]
  },
  {
   "cell_type": "code",
   "execution_count": 2,
   "metadata": {},
   "outputs": [],
   "source": [
    "# Set some parameters\n",
    "IMG_WIDTH = 128\n",
    "IMG_HEIGHT = 128\n",
    "IMG_CHANNELS = 3\n",
    "TRAIN_PATH = '../DATA/stage1_train/'\n",
    "TEST_PATH = '../DATA/stage1_test/'\n",
    "logs_path = './tensorflow_logs/'"
   ]
  },
  {
   "cell_type": "code",
   "execution_count": 3,
   "metadata": {},
   "outputs": [
    {
     "name": "stdout",
     "output_type": "stream",
     "text": [
      "Getting and resizing train images and masks ... \n"
     ]
    },
    {
     "name": "stderr",
     "output_type": "stream",
     "text": [
      "  0%|                                                                                          | 0/670 [00:00<?, ?it/s]C:\\Users\\xuke\\Anaconda3\\envs\\tf-gpu\\lib\\site-packages\\skimage\\transform\\_warps.py:110: UserWarning: Anti-aliasing will be enabled by default in skimage 0.15 to avoid aliasing artifacts when down-sampling images.\n",
      "  warn(\"Anti-aliasing will be enabled by default in skimage 0.15 to \"\n",
      "100%|████████████████████████████████████████████████████████████████████████████████| 670/670 [02:24<00:00,  8.73it/s]\n"
     ]
    },
    {
     "name": "stdout",
     "output_type": "stream",
     "text": [
      "Getting and resizing test images ... \n"
     ]
    },
    {
     "name": "stderr",
     "output_type": "stream",
     "text": [
      "100%|██████████████████████████████████████████████████████████████████████████████████| 65/65 [00:01<00:00, 59.01it/s]\n"
     ]
    },
    {
     "name": "stdout",
     "output_type": "stream",
     "text": [
      "Done!\n"
     ]
    }
   ],
   "source": [
    "# get train and test IDS\n",
    "train_ids = next(os.walk(TRAIN_PATH))[1]\n",
    "test_ids = next(os.walk(TEST_PATH))[1]\n",
    "# Get and resize train images and masks\n",
    "X_train = np.zeros((len(train_ids), IMG_HEIGHT, IMG_WIDTH, IMG_CHANNELS), dtype=np.uint8)\n",
    "Y_train = np.zeros((len(train_ids), IMG_HEIGHT, IMG_WIDTH, 1), dtype=np.int8)\n",
    "print('Getting and resizing train images and masks ... ')\n",
    "sys.stdout.flush()\n",
    "for n, id_ in tqdm(enumerate(train_ids), total=len(train_ids)):\n",
    "    path = TRAIN_PATH + id_\n",
    "    img = imread(path + '/images/' + id_ + '.png')[:,:,:IMG_CHANNELS]\n",
    "    img = resize(img, (IMG_HEIGHT, IMG_WIDTH), mode='constant', preserve_range=True)\n",
    "    X_train[n] = img\n",
    "    mask = np.zeros((IMG_HEIGHT, IMG_WIDTH, 1), dtype=np.int8)\n",
    "\n",
    "    for mask_file in next(os.walk(path + '/masks/'))[2]:\n",
    "        mask_ = imread(path + '/masks/' + mask_file)\n",
    "        mask_ = np.expand_dims(resize(mask_, (IMG_HEIGHT, IMG_WIDTH), mode='constant', \n",
    "                                      preserve_range=True), axis=-1)\n",
    "        mask = np.maximum(mask,mask_)\n",
    "    Y_train[n] = mask\n",
    "\n",
    "# Get and resize test images\n",
    "X_test = np.zeros((len(test_ids), IMG_HEIGHT, IMG_WIDTH, IMG_CHANNELS), dtype=np.uint8)\n",
    "sizes_test = []\n",
    "print('Getting and resizing test images ... ')\n",
    "sys.stdout.flush()\n",
    "for n, id_ in tqdm(enumerate(test_ids), total=len(test_ids)):\n",
    "    path = TEST_PATH + id_\n",
    "    img = imread(path + '/images/' + id_ + '.png')[:,:,:IMG_CHANNELS]\n",
    "    sizes_test.append([img.shape[0], img.shape[1]])\n",
    "    img = resize(img, (IMG_HEIGHT, IMG_WIDTH), mode='constant', preserve_range=True)\n",
    "    X_test[n] = img\n",
    "\n",
    "print('Done!')"
   ]
  },
  {
   "cell_type": "code",
   "execution_count": 4,
   "metadata": {
    "slideshow": {
     "slide_type": "skip"
    }
   },
   "outputs": [],
   "source": [
    "# Model\n",
    "def get_variable(name,shape):\n",
    "    return tf.get_variable(name, shape, initializer = tf.contrib.layers.xavier_initializer())\n",
    "# data\n",
    "def _parse_function(filename, label):\n",
    "    image_string = tf.read_file(filename)\n",
    "    image_decoded = tf.image.decode_image(image_string)\n",
    "    #image_resized = tf.image.resize_images(image_decoded, [28, 28])\n",
    "\n",
    "    return image_decoded, label\n",
    "\n",
    "# 不再是二分类而是多分类了，不能用binary_crossentropy\n",
    "# loss,iou\n",
    "def loss_function(y_pred, y_true): #y_true 0 or 255/y_pred 0 to 1\n",
    "#     I = tf.reduce_sum(tf.multiply(y_pred,y_true))\n",
    "#     U = tf.reduce_sum(y_pred)+tf.reduce_sum(y_true)-I\n",
    "#     cost = I/U\n",
    "    cost = tf.reduce_mean(tf.losses.mean_squared_error(labels=y_true,predictions=y_pred))\n",
    "    return -cost\n",
    "#def mIoU\n",
    "#     yp = y_pred\n",
    "#     yt = y_true/255\n",
    "#     I = tf.multiply(yp,yt)\n",
    "#     U = yp+yt\n",
    "#     IoU = tf.reduce_sum(I,axis=[1,2,3])/tf.reduce_sum(U,axis=[1,2,3])\n",
    "#     cost = tf.reduce_mean(-IoU)"
   ]
  },
  {
   "cell_type": "code",
   "execution_count": 5,
   "metadata": {},
   "outputs": [],
   "source": [
    "batch_size = 16\n",
    "num_steps = 500\n",
    "display_step = 50\n",
    "sess = tf.Session()"
   ]
  },
  {
   "cell_type": "code",
   "execution_count": 6,
   "metadata": {},
   "outputs": [],
   "source": [
    "dataset = tf.data.Dataset.from_tensor_slices((X_train,Y_train))\n",
    "dataset = dataset.repeat()\n",
    "dataset = dataset.batch(batch_size)\n",
    "iterator = dataset.make_initializable_iterator()"
   ]
  },
  {
   "cell_type": "code",
   "execution_count": 7,
   "metadata": {},
   "outputs": [],
   "source": [
    "sess.run(iterator.initializer)\n",
    "X,Y = iterator.get_next()"
   ]
  },
  {
   "cell_type": "code",
   "execution_count": 8,
   "metadata": {},
   "outputs": [],
   "source": [
    "IMG_HEIGHT=IMG_WIDTH=128\n",
    "IMG_CHANNELS=3\n",
    "learning_rate=0.00001\n",
    "with tf.name_scope('input'):\n",
    "    x_ = tf.placeholder(tf.float32, shape=(None,IMG_HEIGHT, IMG_WIDTH, IMG_CHANNELS))\n",
    "    y_ = tf.placeholder(tf.float32, shape=(None,IMG_HEIGHT, IMG_WIDTH))\n",
    "    #y_cn = tf.placeholder(tf.float32, shape=(None,IMG_HEIGHT, IMG_WIDTH, MASKS_NUM))\n",
    "    #y_fc = tf.placeholder(tf.float32,shape=(None,1))#None means the batch size\n",
    "with tf.name_scope('model'):\n",
    "    ## CONTRACTING PATH\n",
    "    ### U1\n",
    "    with tf.name_scope('U1') as scope:\n",
    "        W1_1 = get_variable(\"W1_1\",[3,3,3,16]) #[3,3,3,16] [height,width,input_chanel,output_channel]\n",
    "                                                ######image channel is 4 while input channel is 3?????\n",
    "        Z1 = tf.nn.conv2d(tf.cast(X,tf.float32),W1_1,strides = [1,1,1,1],padding = 'SAME') #stride[1,1,1,1] [batch stride,height stride,width stride,channel stride]\n",
    "        A1 = tf.nn.elu(Z1)\n",
    "        W1_2 = get_variable('W1_2',[3,3,16,16])\n",
    "        Z2 = tf.nn.conv2d(A1,W1_2,strides = [1,1,1,1],padding = 'SAME')\n",
    "        A2 = tf.nn.elu(Z2)\n",
    "        P1 = tf.nn.max_pool(A2,ksize=[1,2,2,1],strides=[1,2,2,1],padding='SAME')#ksize=[pool size on batch,pool size on height,pool size on width,pool size on channel]\n",
    "    ### u2\n",
    "    with tf.name_scope('U2') as scope:\n",
    "        W2_1 = get_variable('W2_1',[3,3,16,32])\n",
    "        Z3 = tf.nn.conv2d(P1,W2_1,strides = [1,1,1,1],padding = 'SAME')\n",
    "        A3 = tf.nn.elu(Z3)\n",
    "        W2_2 = get_variable('W2_2',[3,3,32,32])\n",
    "        Z4 = tf.nn.conv2d(A3,W2_2,strides = [1,1,1,1],padding = 'SAME')\n",
    "        A4 = tf.nn.elu(Z4)\n",
    "        P2 = tf.nn.max_pool(A4,ksize=[1,2,2,1],strides = [1,2,2,1],padding='SAME')\n",
    "    ### u3\n",
    "    with tf.name_scope('U3') as scope:\n",
    "        W3_1 = get_variable('W3_1',[3,3,32,64])\n",
    "        Z5 = tf.nn.conv2d(P2,W3_1,strides=[1,1,1,1],padding = 'SAME')\n",
    "        A5 = tf.nn.elu(Z5)\n",
    "        W3_2 = get_variable('W3_2',[3,3,64,64])\n",
    "        Z6 = tf.nn.conv2d(A5,W3_2,strides=[1,1,1,1],padding='SAME')\n",
    "        A6 =tf.nn.elu(Z6)\n",
    "        P3 = tf.nn.max_pool(A6,ksize=[1,2,2,1],strides = [1,2,2,1],padding='SAME')\n",
    "    ### u4\n",
    "    with tf.name_scope('U4') as scope:\n",
    "        W4_1 =get_variable('W4_1',[3,3,64,128])\n",
    "        Z7 = tf.nn.conv2d(P3,W4_1,strides=[1,1,1,1],padding='SAME')\n",
    "        A7 = tf.nn.elu(Z7)\n",
    "        W4_2 =get_variable('W4_2',[3,3,128,128])\n",
    "        Z8 = tf.nn.conv2d(A7,W4_2,strides = [1,1,1,1],padding = 'SAME')\n",
    "        A8 = tf.nn.elu(Z8)\n",
    "        P4 = tf.nn.max_pool(A8,ksize=[1,2,2,1],strides=[1,2,2,1],padding='SAME')\n",
    "    ### Bottom layer\n",
    "    ### u5\n",
    "    with tf.name_scope('U5') as scope:\n",
    "        W5_1 = get_variable('W5_1',[3,3,128,256])\n",
    "        Z9 = tf.nn.conv2d(P4,W5_1,strides=[1,1,1,1],padding='SAME')\n",
    "        A9 = tf.nn.elu(Z9)\n",
    "        W5_2 = get_variable('W5_2',[3,3,256,256])\n",
    "        Z10 = tf.nn.conv2d(A9,W5_2,strides=[1,1,1,1],padding = 'SAME')\n",
    "        A10 = tf.nn.elu(Z10)\n",
    "        U1 = tf.layers.conv2d_transpose(A10,filters = 128,kernel_size=2,strides=2,padding='SAME')# important,转置卷积这里需要进行说明\n",
    "        U1 = tf.concat([U1,A8],3)# 结合的时候为什么是直接结合的，按照结构的图像的话不是这样的啊\n",
    "    \n",
    "    ### EXPANSIVE PATH\n",
    "    ### u6\n",
    "    with tf.name_scope('U6') as scope:\n",
    "        W6_1 = get_variable('W6_1',[3,3,256,128])\n",
    "        Z11 = tf.nn.conv2d(U1,W6_1,strides=[1,1,1,1],padding='SAME')\n",
    "        A11 = tf.nn.elu(Z11)\n",
    "        W6_2 = get_variable('W6_2',[3,3,128,128])\n",
    "        Z12 = tf.nn.conv2d(A11,W6_2,strides=[1,1,1,1],padding='SAME')\n",
    "        A12 = tf.nn.elu(Z12)\n",
    "        U2 = tf.layers.conv2d_transpose(A12,filters = 64,kernel_size=2,strides=2,padding='SAME')\n",
    "        U2 = tf.concat([U2,A6],3)\n",
    "    ### u7\n",
    "    with tf.name_scope('U7') as scope:\n",
    "        W7_1 = get_variable('W7_1',[3,3,128,64])\n",
    "        Z13 = tf.nn.conv2d(U2,W7_1,strides=[1,1,1,1],padding='SAME')\n",
    "        A13 =tf.nn.elu(Z13)\n",
    "        W7_2 = get_variable('W7_2',[3,3,64,64])\n",
    "        Z14 = tf.nn.conv2d(A13,W7_2,strides=[1,1,1,1],padding='SAME')\n",
    "        A14 =tf.nn.elu(Z14)\n",
    "        U3 = tf.layers.conv2d_transpose(A14,filters = 32,kernel_size=2,strides=2,padding='SAME')\n",
    "        U3 = tf.concat([U3,A4],3)\n",
    "    ### u8\n",
    "    with tf.name_scope('U8') as scope:\n",
    "        W8_1 = get_variable('W8_1',[3,3,64,32])\n",
    "        Z15 = tf.nn.conv2d(U3,W8_1,strides=[1,1,1,1],padding='SAME')\n",
    "        A15= tf.nn.elu(Z15)\n",
    "        W8_2 = get_variable('W8_2',[3,3,32,32])\n",
    "        Z16 = tf.nn.conv2d(A15,W8_2,strides=[1,1,1,1],padding='SAME')\n",
    "        A16 = tf.nn.elu(Z16)\n",
    "        U4 = tf.layers.conv2d_transpose(A16,filters=16,kernel_size=2,strides=2,padding='SAME')\n",
    "        U4 = tf.concat([U4,A2],3)\n",
    "    ### u9\n",
    "    with tf.name_scope('U9') as scope:\n",
    "        W9_1 = get_variable('W9_1',[3,3,32,16])\n",
    "        Z17 = tf.nn.conv2d(U4,W9_1,strides=[1,1,1,1],padding='SAME')\n",
    "        A17 = tf.nn.elu(Z17)\n",
    "        W9_2 = get_variable('W9_2',[3,3,16,16])\n",
    "        Z18 = tf.nn.conv2d(A17,W9_2,strides=[1,1,1,1],padding='SAME')\n",
    "        A18 = tf.nn.elu(Z18)\n",
    "        W9_3 = get_variable('W9_3',[1,1,16,1])#?????? 4*1=4 但是网络的结构图似乎是2\n",
    "        Z19 = tf.nn.conv2d(A18,W9_3,strides=[1,1,1,1],padding='SAME')\n",
    "        A19 = tf.nn.relu(Z19)\n",
    "    ### output\n",
    "    with tf.name_scope('unet_output') as scope:\n",
    "        y_pred = A19\n",
    "    tf.summary.histogram('y_pred', y_pred)"
   ]
  },
  {
   "cell_type": "code",
   "execution_count": 9,
   "metadata": {},
   "outputs": [],
   "source": [
    "# build the graph as a dictionary\n",
    "with tf.name_scope('loss'):\n",
    "    with tf.variable_scope('loss',reuse=tf.AUTO_REUSE) as scope:\n",
    "        loss = loss_function(y_pred,tf.cast(Y,tf.float32))\n",
    "with tf.name_scope('optimizer'):\n",
    "    with tf.variable_scope('ADAM',reuse=tf.AUTO_REUSE) as scope:\n",
    "        # Gradient descent\n",
    "        optimizer = tf.train.GradientDescentOptimizer(learning_rate=learning_rate)\n",
    "        train_op = optimizer.minimize(loss,global_step=tf.train.get_global_step())\n",
    "# Create a summary to monitor cost tensor\n",
    "tf.summary.scalar(\"loss\", loss)\n",
    "# Create a summary to monitor accuracy tensor\n",
    "# Merge all summaries into a single op\n",
    "merged_summary_op = tf.summary.merge_all()"
   ]
  },
  {
   "cell_type": "code",
   "execution_count": 10,
   "metadata": {},
   "outputs": [],
   "source": [
    "init = tf.group(tf.global_variables_initializer(), tf.local_variables_initializer())    "
   ]
  },
  {
   "cell_type": "code",
   "execution_count": 13,
   "metadata": {
    "scrolled": true,
    "slideshow": {
     "slide_type": "-"
    }
   },
   "outputs": [
    {
     "name": "stdout",
     "output_type": "stream",
     "text": [
      "Step 1, Minibatch Loss= -137.11325\n",
      "Step 50, Minibatch Loss= -204.16745\n",
      "Step 100, Minibatch Loss= -251.09584\n",
      "Step 150, Minibatch Loss= -230.2413\n",
      "Step 200, Minibatch Loss= -151.79134\n",
      "Step 250, Minibatch Loss= -159.29593\n",
      "Step 300, Minibatch Loss= -122.93513\n",
      "Step 350, Minibatch Loss= -216.70146\n",
      "Step 400, Minibatch Loss= -237.50607\n",
      "Step 450, Minibatch Loss= -235.26945\n",
      "Step 500, Minibatch Loss= -149.85399\n",
      "Step 550, Minibatch Loss= -220.79337\n",
      "Step 600, Minibatch Loss= -196.09865\n",
      "Step 650, Minibatch Loss= -262.4346\n",
      "Step 700, Minibatch Loss= -170.153\n",
      "Step 750, Minibatch Loss= -266.6319\n",
      "Step 800, Minibatch Loss= -179.70212\n",
      "Step 850, Minibatch Loss= -264.34393\n",
      "Step 900, Minibatch Loss= -191.70184\n",
      "Step 950, Minibatch Loss= -240.36794\n",
      "Step 1000, Minibatch Loss= -232.99326\n"
     ]
    }
   ],
   "source": [
    "sess.run(init)\n",
    "# op to write logs to Tensorboard\n",
    "summary_writer = tf.summary.FileWriter(logs_path, graph=sess.graph)\n",
    "for step in range(1,2*num_steps+1):\n",
    "    sess.run(train_op)\n",
    "    summary = sess.run(merged_summary_op)\n",
    "    summary_writer.add_summary(summary, step)\n",
    "    if step % display_step==0 or step ==1:\n",
    "    # Write logs at every iteration\n",
    "        LOSS = sess.run(loss)\n",
    "        print(\"Step \" + str(step) + \", Minibatch Loss= \"+str(LOSS))"
   ]
  },
  {
   "cell_type": "code",
   "execution_count": 14,
   "metadata": {},
   "outputs": [],
   "source": [
    "summary_writer.close()"
   ]
  },
  {
   "cell_type": "code",
   "execution_count": 21,
   "metadata": {},
   "outputs": [],
   "source": [
    "[x,y,z19,a19] = sess.run([X,Y,Z19,A19])"
   ]
  },
  {
   "cell_type": "code",
   "execution_count": 22,
   "metadata": {},
   "outputs": [
    {
     "data": {
      "image/png": "[encoded data removed]",
      "text/plain": [
       "<Figure size 432x288 with 1 Axes>"
      ]
     },
     "metadata": {
      "needs_background": "light"
     },
     "output_type": "display_data"
    }
   ],
   "source": [
    "# input image\n",
    "imshow(x[0,:,:,0])\n",
    "plt.show()"
   ]
  },
  {
   "cell_type": "code",
   "execution_count": 23,
   "metadata": {
    "scrolled": true
   },
   "outputs": [
    {
     "data": {
      "image/png": "[encoded data removed]",
      "text/plain": [
       "<Figure size 432x288 with 1 Axes>"
      ]
     },
     "metadata": {
      "needs_background": "light"
     },
     "output_type": "display_data"
    }
   ],
   "source": [
    "plt.imshow(z19[0,:,:,0],'gray')\n",
    "plt.show()"
   ]
  },
  {
   "cell_type": "code",
   "execution_count": 24,
   "metadata": {},
   "outputs": [
    {
     "data": {
      "image/png": "[encoded data removed]",
      "text/plain": [
       "<Figure size 432x288 with 1 Axes>"
      ]
     },
     "metadata": {
      "needs_background": "light"
     },
     "output_type": "display_data"
    }
   ],
   "source": [
    "plt.imshow(a19[0,:,:,0],'gray')\n",
    "plt.show()"
   ]
  },
  {
   "cell_type": "code",
   "execution_count": 25,
   "metadata": {},
   "outputs": [
    {
     "data": {
      "image/png": "[encoded data removed]",
      "text/plain": [
       "<Figure size 432x288 with 1 Axes>"
      ]
     },
     "metadata": {
      "needs_background": "light"
     },
     "output_type": "display_data"
    }
   ],
   "source": [
    "plt.imshow(yp[0,:,:,0],'gray')\n",
    "plt.show()"
   ]
  },
  {
   "cell_type": "code",
   "execution_count": 26,
   "metadata": {},
   "outputs": [
    {
     "data": {
      "text/plain": [
       "<matplotlib.image.AxesImage at 0x2b946b820f0>"
      ]
     },
     "execution_count": 26,
     "metadata": {},
     "output_type": "execute_result"
    },
    {
     "data": {
      "image/png": "[encoded data removed]",
      "text/plain": [
       "<Figure size 432x288 with 1 Axes>"
      ]
     },
     "metadata": {
      "needs_background": "light"
     },
     "output_type": "display_data"
    }
   ],
   "source": [
    "plt.imshow(y[0,:,:,0],'gray')"
   ]
  },
  {
   "cell_type": "code",
   "execution_count": null,
   "metadata": {},
   "outputs": [],
   "source": []
  },
  {
   "cell_type": "code",
   "execution_count": null,
   "metadata": {},
   "outputs": [],
   "source": [
    "np.max(y)"
   ]
  },
  {
   "cell_type": "code",
   "execution_count": null,
   "metadata": {},
   "outputs": [],
   "source": []
  }
 ],
 "metadata": {
  "celltoolbar": "Raw Cell Format",
  "kernelspec": {
   "display_name": "tfgpu",
   "language": "python",
   "name": "tf-gpu"
  },
  "language_info": {
   "codemirror_mode": {
    "name": "ipython",
    "version": 3
   },
   "file_extension": ".py",
   "mimetype": "text/x-python",
   "name": "python",
   "nbconvert_exporter": "python",
   "pygments_lexer": "ipython3",
   "version": "3.6.8"
  }
 },
 "nbformat": 4,
 "nbformat_minor": 2
}
